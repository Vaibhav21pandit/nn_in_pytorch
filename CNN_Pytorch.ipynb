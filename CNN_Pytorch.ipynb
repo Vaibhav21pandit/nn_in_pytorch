{
  "nbformat": 4,
  "nbformat_minor": 0,
  "metadata": {
    "colab": {
      "name": "CNN_Pytorch.ipynb",
      "provenance": [],
      "authorship_tag": "ABX9TyPQfl4Ndkk1XbEcEaRgOrpK",
      "include_colab_link": true
    },
    "kernelspec": {
      "name": "python3",
      "display_name": "Python 3"
    }
  },
  "cells": [
    {
      "cell_type": "markdown",
      "metadata": {
        "id": "view-in-github",
        "colab_type": "text"
      },
      "source": [
        "<a href=\"https://colab.research.google.com/github/Vaibhav21pandit/nn_in_pytorch/blob/main/CNN_Pytorch.ipynb\" target=\"_parent\"><img src=\"https://colab.research.google.com/assets/colab-badge.svg\" alt=\"Open In Colab\"/></a>"
      ]
    },
    {
      "cell_type": "code",
      "metadata": {
        "id": "i6-Mb3FbqNZR"
      },
      "source": [
        "import torch\n",
        "import torch.nn as nn\n",
        "from torchvision import datasets\n",
        "from torch.utils.data import Dataset,DataLoader"
      ],
      "execution_count": 2,
      "outputs": []
    },
    {
      "cell_type": "code",
      "metadata": {
        "id": "LK8aEeR9qbJe"
      },
      "source": [
        "class LeNet(nn.Module):\n",
        "  def __init__(self):\n",
        "    super(LeNet,self).__init__()\n",
        "    self.pool=nn.AvgPool2d(kernel_size=(2,2),stride=(2,2))\n",
        "    self.conv1=nn.Conv2d(in_channels=3,out_channels=6,kernel_size=(5,5),stride=(1,1),padding=(0,0))\n",
        "    self.conv2=nn.Conv2d(in_channels=6,out_channels=16,kernel_size=(5,5),stride=(1,1),padding=(0,0))\n",
        "    self.conv3=nn.Conv2d(in_channels=16,out_channels=120,kernel_size=(5,5),stride=(1,1),padding=(0,0))\n",
        "    self.fc1=nn.Linear(in_features=120,out_features=84)\n",
        "    self.fc2=nn.Linear(in_features=84,out_features=10)\n",
        "\n",
        "  def forward(self,input):\n",
        "    x=torch.relu(self.conv1(input))\n",
        "    x=self.pool(x)\n",
        "    x=torch.relu(self.conv2(x))\n",
        "    x=self.pool(x)\n",
        "    x=torch.relu(self.conv3(x))\n",
        "    x=x.reshape(x.shape[0],-1)\n",
        "    x=torch.relu(self.fc1(x))\n",
        "    x=self.fc2(x)\n",
        "    return x\n",
        "\n",
        "model=LeNet()\n",
        "\n",
        "\n"
      ],
      "execution_count": 17,
      "outputs": []
    },
    {
      "cell_type": "code",
      "metadata": {
        "id": "Vwzy6_NE12Yv",
        "outputId": "5f0eb20d-8a40-4e72-9a1c-75732dda5665",
        "colab": {
          "base_uri": "https://localhost:8080/"
        }
      },
      "source": [
        "input=torch.rand((1,3,32,32))\n",
        "print(model(input).shape)"
      ],
      "execution_count": 18,
      "outputs": [
        {
          "output_type": "stream",
          "text": [
            "torch.Size([1, 10])\n"
          ],
          "name": "stdout"
        }
      ]
    },
    {
      "cell_type": "code",
      "metadata": {
        "id": "dAMiRDcX2ySy"
      },
      "source": [
        ""
      ],
      "execution_count": null,
      "outputs": []
    }
  ]
}